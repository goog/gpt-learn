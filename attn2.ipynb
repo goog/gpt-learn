{
 "cells": [
  {
   "cell_type": "code",
   "execution_count": 1,
   "id": "c60cc377-9ead-4373-aa3d-b2de8d8624d1",
   "metadata": {},
   "outputs": [],
   "source": [
    "import torch\n",
    "import numpy as np\n",
    "import torch.nn as nn\n",
    "import math\n",
    "import torch.nn.functional as F"
   ]
  },
  {
   "cell_type": "code",
   "execution_count": 30,
   "id": "13b2d209-7573-4a06-b1a9-9a5ab03f6279",
   "metadata": {},
   "outputs": [],
   "source": [
    "class selfAttention(nn.Module):\n",
    "    def __init__(self, num_attention_heads, input_size, hidden_size):\n",
    "        super(selfAttention, self).__init__()\n",
    "        if hidden_size % num_attention_heads != 0 :\n",
    "            raise ValueError(\n",
    "                \"the hidden size %d is not a multiple of the number of attention heads\"\n",
    "                \"%d\" % (hidden_size, num_attention_heads)\n",
    "            )\n",
    "        #input_size 为输入特征维度\n",
    "        #hidden_size the number of neurons in the output layer.\n",
    "        print(f\"num heads {num_attention_heads} input size {input_size} hidden size {hidden_size}\")\n",
    "        self.num_attention_heads = num_attention_heads\n",
    "        self.attention_head_size = int(hidden_size / num_attention_heads)\n",
    "        self.all_head_size = hidden_size\n",
    "\n",
    "        self.key_layer = nn.Linear(input_size, hidden_size)\n",
    "        self.query_layer = nn.Linear(input_size, hidden_size)\n",
    "        self.value_layer = nn.Linear(input_size, hidden_size)\n",
    "\n",
    "    \n",
    "    def trans_to_multiple_heads(self, x):\n",
    "        print(f\"x.size {x.size()}\")\n",
    "        print(f\"x.size()[ : -1] {x.size()[ : -1]}\")\n",
    "        new_size = x.size()[ : -1] + (self.num_attention_heads, self.attention_head_size)\n",
    "        print(f\"new size {new_size}\")\n",
    "        x = x.view(new_size)\n",
    "        print(f\"x shape {x.shape}\")\n",
    "        return x.permute(0, 2, 1, 3)\n",
    "\n",
    "    def forward(self, x):\n",
    "        key = self.key_layer(x)\n",
    "        query = self.query_layer(x)\n",
    "        value = self.value_layer(x)\n",
    "\n",
    "        # (batch_size, seq_len, hidden_size)\n",
    "        print(f\"orignal key shape {key.shape}\")\n",
    "        key_heads = self.trans_to_multiple_heads(key)\n",
    "        print(f\"砸裂 key multi heads shape {key_heads.shape}\")\n",
    "        \n",
    "        query_heads = self.trans_to_multiple_heads(query)\n",
    "        value_heads = self.trans_to_multiple_heads(value)\n",
    "\n",
    "        attention_scores = torch.matmul(query_heads, key_heads.permute(0, 1, 3, 2))\n",
    "        attention_scores = attention_scores / math.sqrt(self.attention_head_size)  # / dk\n",
    "\n",
    "        attention_probs = F.softmax(attention_scores, dim = -1)\n",
    "        context = torch.matmul(attention_probs, value_heads)\n",
    "        print(f\"context {context.shape}\")\n",
    "        \n",
    "        context = context.permute(0, 2, 1, 3).contiguous()\n",
    "        new_size = context.size()[ : -2] + (self.all_head_size , )\n",
    "        context = context.view(*new_size)\n",
    "        return context\n",
    "\n",
    "        \n"
   ]
  },
  {
   "cell_type": "code",
   "execution_count": 31,
   "id": "19ff0af9-2ec2-4bba-9981-80a164fa6724",
   "metadata": {},
   "outputs": [
    {
     "name": "stdout",
     "output_type": "stream",
     "text": [
      "num heads 2 input size 10 hidden size 20\n",
      "orignal key shape torch.Size([32, 20, 20])\n",
      "x.size torch.Size([32, 20, 20])\n",
      "x.size()[ : -1] torch.Size([32, 20])\n",
      "new size torch.Size([32, 20, 2, 10])\n",
      "x shape torch.Size([32, 20, 2, 10])\n",
      "砸裂 key multi heads shape torch.Size([32, 2, 20, 10])\n",
      "x.size torch.Size([32, 20, 20])\n",
      "x.size()[ : -1] torch.Size([32, 20])\n",
      "new size torch.Size([32, 20, 2, 10])\n",
      "x shape torch.Size([32, 20, 2, 10])\n",
      "x.size torch.Size([32, 20, 20])\n",
      "x.size()[ : -1] torch.Size([32, 20])\n",
      "new size torch.Size([32, 20, 2, 10])\n",
      "x shape torch.Size([32, 20, 2, 10])\n",
      "context torch.Size([32, 2, 20, 10])\n",
      "torch.Size([32, 20, 20])\n"
     ]
    }
   ],
   "source": [
    "features = torch.rand((32, 20, 10))\n",
    "attention = selfAttention(2, 10, 20)\n",
    "result = attention.forward(features)\n",
    "print(result.shape)\n"
   ]
  },
  {
   "cell_type": "code",
   "execution_count": null,
   "id": "752ecb4f-3b93-410c-8580-979d913e3452",
   "metadata": {},
   "outputs": [],
   "source": []
  }
 ],
 "metadata": {
  "kernelspec": {
   "display_name": "Python 3 (ipykernel)",
   "language": "python",
   "name": "python3"
  },
  "language_info": {
   "codemirror_mode": {
    "name": "ipython",
    "version": 3
   },
   "file_extension": ".py",
   "mimetype": "text/x-python",
   "name": "python",
   "nbconvert_exporter": "python",
   "pygments_lexer": "ipython3",
   "version": "3.10.6"
  }
 },
 "nbformat": 4,
 "nbformat_minor": 5
}
